{
 "cells": [
  {
   "cell_type": "code",
   "execution_count": 1,
   "metadata": {},
   "outputs": [],
   "source": [
    "import pandas as pd\n",
    "import networkx as nx\n",
    "import random\n",
    "from scipy import special\n",
    "from collections import defaultdict\n",
    "import click\n",
    "import os\n",
    "from statsmodels.stats import multitest\n",
    "import csv"
   ]
  },
  {
   "cell_type": "code",
   "execution_count": null,
   "metadata": {},
   "outputs": [],
   "source": []
  },
  {
   "cell_type": "code",
   "execution_count": 2,
   "metadata": {},
   "outputs": [],
   "source": [
    "\"\"\"\n",
    "Constructs a NetworkX graph.\n",
    "\n",
    "Input:\n",
    "    - file : csv file\n",
    "\n",
    "Output:\n",
    "    - graph: NetworkX graph\n",
    "\"\"\"\n",
    "def construct_graph(file):\n",
    "    df_ppi = pd.read_csv(file, sep = \"\\t\", header=None, names=[\"Protein1\", \"interaction\", \"Protein2\"])\n",
    "    \n",
    "    df_ppi.Protein1 = df_ppi['Protein1'].str.lower()\n",
    "    df_ppi.Protein2 = df_ppi['Protein2'].str.lower()\n",
    "    \n",
    "    df_interactions = df_ppi.replace(\"in-complex-with\", +1)\n",
    "    df_interactions = df_interactions.replace(\"controls-expression-of\", -1)\n",
    "    df_interactions = df_interactions.replace(\"controls-state-change-of\", -1)\n",
    "    \n",
    "    df_interactions['interaction'].loc[(df_interactions['interaction'] != +1) ] = 0\n",
    "    df_interactions['interaction'].loc[(df_interactions['interaction'] != -1) ] = 0\n",
    "    #& &&(df_interactions.loc[:,1] != -1)\n",
    "    #df_dgxp_thr_filtered['fold-change'].loc[(df_dgxp_thr_filtered[DGXPCOLUMNS[1]] > 0)] = +1\n",
    "    G = nx.DiGraph()\n",
    "    \n",
    "    for i in range(len(df_interactions)):\n",
    "        prot1 = df_interactions.iloc[i,0]\n",
    "        prot2 = df_interactions.iloc[i,2]\n",
    "        #print(prot1, prot2)\n",
    "        interaction = df_interactions.iloc[i,1]\n",
    "        G.add_node(prot1)\n",
    "        G.add_node(prot2)\n",
    "        G.add_edge(prot1, prot2)\n",
    "        G[prot1][prot2]['relation'] = interaction\n",
    " \n",
    "        \n",
    "    return G"
   ]
  },
  {
   "cell_type": "code",
   "execution_count": 3,
   "metadata": {},
   "outputs": [
    {
     "name": "stderr",
     "output_type": "stream",
     "text": [
      "//anaconda3/lib/python3.7/site-packages/pandas/core/indexing.py:202: SettingWithCopyWarning: \n",
      "A value is trying to be set on a copy of a slice from a DataFrame\n",
      "\n",
      "See the caveats in the documentation: http://pandas.pydata.org/pandas-docs/stable/user_guide/indexing.html#returning-a-view-versus-a-copy\n",
      "  self._setitem_with_indexer(indexer, value)\n"
     ]
    },
    {
     "data": {
      "text/plain": [
       "<networkx.classes.digraph.DiGraph at 0x11ea70550>"
      ]
     },
     "execution_count": 3,
     "metadata": {},
     "output_type": "execute_result"
    }
   ],
   "source": [
    "path = \"/Users/sophiakrix/Desktop/MechEnrichmentLab/NOTCH1_Intracellular.txt\"\n",
    "construct_graph(path)"
   ]
  },
  {
   "cell_type": "code",
   "execution_count": 4,
   "metadata": {},
   "outputs": [],
   "source": [
    "\n",
    "df = pd.read_csv(path, sep = \"\\t\", header=None, names=[\"Protein1\", \"interaction\", \"Protein2\"])"
   ]
  },
  {
   "cell_type": "code",
   "execution_count": 5,
   "metadata": {},
   "outputs": [
    {
     "data": {
      "text/html": [
       "<div>\n",
       "<style scoped>\n",
       "    .dataframe tbody tr th:only-of-type {\n",
       "        vertical-align: middle;\n",
       "    }\n",
       "\n",
       "    .dataframe tbody tr th {\n",
       "        vertical-align: top;\n",
       "    }\n",
       "\n",
       "    .dataframe thead th {\n",
       "        text-align: right;\n",
       "    }\n",
       "</style>\n",
       "<table border=\"1\" class=\"dataframe\">\n",
       "  <thead>\n",
       "    <tr style=\"text-align: right;\">\n",
       "      <th></th>\n",
       "      <th>Protein1</th>\n",
       "      <th>interaction</th>\n",
       "      <th>Protein2</th>\n",
       "    </tr>\n",
       "  </thead>\n",
       "  <tbody>\n",
       "    <tr>\n",
       "      <th>0</th>\n",
       "      <td>CCNC</td>\n",
       "      <td>in-complex-with</td>\n",
       "      <td>CDK8</td>\n",
       "    </tr>\n",
       "    <tr>\n",
       "      <th>1</th>\n",
       "      <td>CCNC</td>\n",
       "      <td>in-complex-with</td>\n",
       "      <td>CREBBP</td>\n",
       "    </tr>\n",
       "    <tr>\n",
       "      <th>2</th>\n",
       "      <td>CCNC</td>\n",
       "      <td>in-complex-with</td>\n",
       "      <td>EP300</td>\n",
       "    </tr>\n",
       "    <tr>\n",
       "      <th>3</th>\n",
       "      <td>CCNC</td>\n",
       "      <td>in-complex-with</td>\n",
       "      <td>KAT2A</td>\n",
       "    </tr>\n",
       "    <tr>\n",
       "      <th>4</th>\n",
       "      <td>CCNC</td>\n",
       "      <td>in-complex-with</td>\n",
       "      <td>KAT2B</td>\n",
       "    </tr>\n",
       "  </tbody>\n",
       "</table>\n",
       "</div>"
      ],
      "text/plain": [
       "  Protein1      interaction Protein2\n",
       "0     CCNC  in-complex-with     CDK8\n",
       "1     CCNC  in-complex-with   CREBBP\n",
       "2     CCNC  in-complex-with    EP300\n",
       "3     CCNC  in-complex-with    KAT2A\n",
       "4     CCNC  in-complex-with    KAT2B"
      ]
     },
     "execution_count": 5,
     "metadata": {},
     "output_type": "execute_result"
    }
   ],
   "source": [
    "df.head()"
   ]
  },
  {
   "cell_type": "code",
   "execution_count": 6,
   "metadata": {},
   "outputs": [
    {
     "data": {
      "text/plain": [
       "Index(['Protein1', 'interaction', 'Protein2'], dtype='object')"
      ]
     },
     "execution_count": 6,
     "metadata": {},
     "output_type": "execute_result"
    }
   ],
   "source": [
    "df.columns"
   ]
  },
  {
   "cell_type": "code",
   "execution_count": 7,
   "metadata": {},
   "outputs": [
    {
     "data": {
      "text/plain": [
       "{'controls-expression-of', 'controls-state-change-of', 'in-complex-with'}"
      ]
     },
     "execution_count": 7,
     "metadata": {},
     "output_type": "execute_result"
    }
   ],
   "source": [
    "interactions_set = set(df.iloc[:,1])\n",
    "interactions_set"
   ]
  },
  {
   "cell_type": "code",
   "execution_count": 8,
   "metadata": {},
   "outputs": [
    {
     "data": {
      "text/plain": [
       "in-complex-with             234\n",
       "controls-expression-of       72\n",
       "controls-state-change-of     12\n",
       "Name: interaction, dtype: int64"
      ]
     },
     "execution_count": 8,
     "metadata": {},
     "output_type": "execute_result"
    }
   ],
   "source": [
    "interactions = df[\"interaction\"].value_counts()\n",
    "interactions"
   ]
  },
  {
   "cell_type": "code",
   "execution_count": 9,
   "metadata": {},
   "outputs": [],
   "source": [
    "df_interactions = df.replace(\"in-complex-with\", +1)\n",
    "df_interactions = df_interactions.replace(\"controls-expression-of\", -1)\n",
    "df_interactions = df_interactions.replace(\"controls-state-change-of\", -1)"
   ]
  },
  {
   "cell_type": "code",
   "execution_count": 10,
   "metadata": {},
   "outputs": [
    {
     "data": {
      "text/plain": [
       " 1    234\n",
       "-1     84\n",
       "Name: interaction, dtype: int64"
      ]
     },
     "execution_count": 10,
     "metadata": {},
     "output_type": "execute_result"
    }
   ],
   "source": [
    "df_interactions[\"interaction\"].value_counts()"
   ]
  },
  {
   "cell_type": "markdown",
   "metadata": {},
   "source": [
    "# NetworkX"
   ]
  },
  {
   "cell_type": "code",
   "execution_count": 87,
   "metadata": {},
   "outputs": [
    {
     "name": "stderr",
     "output_type": "stream",
     "text": [
      "//anaconda3/lib/python3.7/site-packages/pandas/core/indexing.py:202: SettingWithCopyWarning: \n",
      "A value is trying to be set on a copy of a slice from a DataFrame\n",
      "\n",
      "See the caveats in the documentation: http://pandas.pydata.org/pandas-docs/stable/user_guide/indexing.html#returning-a-view-versus-a-copy\n",
      "  self._setitem_with_indexer(indexer, value)\n"
     ]
    }
   ],
   "source": [
    "G = construct_graph(path)"
   ]
  },
  {
   "cell_type": "code",
   "execution_count": 88,
   "metadata": {},
   "outputs": [
    {
     "data": {
      "text/plain": [
       "318"
      ]
     },
     "execution_count": 88,
     "metadata": {},
     "output_type": "execute_result"
    }
   ],
   "source": [
    "len(df_interactions)"
   ]
  },
  {
   "cell_type": "code",
   "execution_count": 89,
   "metadata": {},
   "outputs": [],
   "source": [
    "for i in range(len(df_interactions)):\n",
    "    prot1 = df_interactions.iloc[i,0]\n",
    "    prot2 = df_interactions.iloc[i,2]\n",
    "    interaction = df_interactions.iloc[i,1]\n",
    "    G.add_node(prot1)\n",
    "    G.add_node(prot2)\n",
    "    G.add_edge(prot1, prot2)\n",
    "    G[prot1][prot2]['relation'] = interaction"
   ]
  },
  {
   "cell_type": "code",
   "execution_count": 90,
   "metadata": {},
   "outputs": [
    {
     "data": {
      "text/plain": [
       "\"for n, nbrs in G.adj.items():\\n    for nbr, eattr in nbrs.items():\\n        relation = eattr['relation']\\n        #print(n, nbr, relation)\""
      ]
     },
     "execution_count": 90,
     "metadata": {},
     "output_type": "execute_result"
    }
   ],
   "source": [
    "\"\"\"for n, nbrs in G.adj.items():\n",
    "    for nbr, eattr in nbrs.items():\n",
    "        relation = eattr['relation']\n",
    "        #print(n, nbr, relation)\"\"\""
   ]
  },
  {
   "cell_type": "code",
   "execution_count": 91,
   "metadata": {},
   "outputs": [],
   "source": [
    "#plt.subplot(121)\n",
    "#nx.draw(G, with_labels=True, font_weight='bold')\n",
    "#plt.subplot(122)\n",
    "#nx.draw_shell(G, nlist=[range(5, 10), range(5)], with_labels=True, font_weight='bold')"
   ]
  },
  {
   "cell_type": "code",
   "execution_count": 92,
   "metadata": {},
   "outputs": [
    {
     "name": "stdout",
     "output_type": "stream",
     "text": [
      "Number of edges:  290 \n",
      "Number of nodes:  47\n"
     ]
    }
   ],
   "source": [
    "# Nr edges and nr of nodes \n",
    "\n",
    "print(\"Number of edges: \",G.number_of_edges(),\"\\nNumber of nodes: \",G.number_of_nodes())\n"
   ]
  },
  {
   "cell_type": "code",
   "execution_count": null,
   "metadata": {},
   "outputs": [],
   "source": []
  },
  {
   "cell_type": "markdown",
   "metadata": {},
   "source": [
    "# Algorithmic Development"
   ]
  },
  {
   "cell_type": "code",
   "execution_count": 93,
   "metadata": {},
   "outputs": [],
   "source": [
    "#G = nx.DiGraph()\n",
    "LABEL = 'label'\n",
    "df_dgxp = df_dgxp_pval_filtered\n",
    "for i in range(len(df_interactions)):\n",
    "    \n",
    "    # add nodes to graph\n",
    "    prot1 = df_interactions.loc[i, COLUMNS[0]]\n",
    "    prot2 = df_interactions.loc[i, COLUMNS[2]]\n",
    "    \n",
    "    G.add_node(prot1)\n",
    "    G.add_node(prot2)\n",
    "\n",
    "    # add node attribute from dgxp file\n",
    "    \n",
    "\n",
    "\n",
    "#df = filter_dgxp(dgxp_file, sep, dgxp_columns, threshold)\n",
    "df_ppi = df_interactions\n",
    "gene_to_fc_dict = {}\n",
    "\n",
    "    \n",
    "for node in df_ppi.Protein1:\n",
    "    if node in df_dgxp.index:\n",
    "        #print(node)\n",
    "        #fclabel = df_dgxp.loc[node, 'fold-change']\n",
    "        #print(fclabel)\n",
    "        gene_to_fc_dict[node] = {}\n",
    "        gene_to_fc_dict[node]['label'] = df_dgxp.loc[node, 'fold-change']\n",
    "        #print(f'Label for node {node} is now {fclabel}.')\n",
    "        \n",
    "        \n",
    "    #print(gene_fc_dict)\n",
    "   "
   ]
  },
  {
   "cell_type": "code",
   "execution_count": 94,
   "metadata": {},
   "outputs": [],
   "source": [
    "\"\"\"\n",
    "Randomly assigns labels of [-1,0,1] to nodes in a graph\n",
    "Labels:\n",
    "-1 : Downregulated\n",
    "0 : No change\n",
    "+1 : Upregulated\n",
    "\n",
    "Input:\n",
    "    - graph : the graph consisting of protein nodes \n",
    "\n",
    "Output:\n",
    "    - prints list of nodes with associated attribute label\n",
    "\"\"\"\n",
    "def random_node_labels(graph):\n",
    "    for node in graph.nodes():\n",
    "        random_label = random.randint(-1,1)\n",
    "        graph.nodes[node]['label'] = random_label\n",
    "    print(graph.nodes.data())"
   ]
  },
  {
   "cell_type": "code",
   "execution_count": 95,
   "metadata": {},
   "outputs": [],
   "source": [
    "#random_node_labels(G)"
   ]
  },
  {
   "cell_type": "code",
   "execution_count": 96,
   "metadata": {},
   "outputs": [],
   "source": [
    "\"\"\"\n",
    "Caclulates the  path between two nodes.\n",
    "\n",
    "Input:\n",
    "    - graph : NetworkX graph\n",
    "    - source : upstream source node\n",
    "\n",
    "\n",
    "Output:\n",
    "    - dictionary of shortest path nodes between source node and all other nodes in graph\n",
    "\"\"\"\n",
    "def shortest_path(graph, source):\n",
    "    for target in graph.nodes():\n",
    "        shortest_paths = nx.shortest_path(graph, source)\n",
    "    return shortest_paths"
   ]
  },
  {
   "cell_type": "code",
   "execution_count": 98,
   "metadata": {},
   "outputs": [
    {
     "data": {
      "text/plain": [
       "{'ccnc': ['ccnc'],\n",
       " 'cdk8': ['ccnc', 'cdk8'],\n",
       " 'crebbp': ['ccnc', 'crebbp'],\n",
       " 'ep300': ['ccnc', 'ep300'],\n",
       " 'kat2a': ['ccnc', 'kat2a'],\n",
       " 'kat2b': ['ccnc', 'kat2b'],\n",
       " 'maml1': ['ccnc', 'maml1'],\n",
       " 'maml2': ['ccnc', 'maml2'],\n",
       " 'maml3': ['ccnc', 'maml3'],\n",
       " 'mamld1': ['ccnc', 'mamld1'],\n",
       " 'notch1': ['ccnc', 'notch1'],\n",
       " 'rbpj': ['ccnc', 'rbpj'],\n",
       " 'snw1': ['ccnc', 'snw1'],\n",
       " 'hes1': ['ccnc', 'crebbp', 'hes1'],\n",
       " 'hes5': ['ccnc', 'crebbp', 'hes5'],\n",
       " 'hey1': ['ccnc', 'crebbp', 'hey1'],\n",
       " 'hey2': ['ccnc', 'crebbp', 'hey2'],\n",
       " 'heyl': ['ccnc', 'crebbp', 'heyl'],\n",
       " 'myc': ['ccnc', 'crebbp', 'myc'],\n",
       " 'rbx1': ['ccnc', 'notch1', 'rbx1'],\n",
       " 'rps27a': ['ccnc', 'notch1', 'rps27a'],\n",
       " 'skp1': ['ccnc', 'notch1', 'skp1'],\n",
       " 'uba52': ['ccnc', 'notch1', 'uba52'],\n",
       " 'ubb': ['ccnc', 'notch1', 'ubb'],\n",
       " 'ubc': ['ccnc', 'notch1', 'ubc'],\n",
       " 'tbl1xr1': ['ccnc', 'rbpj', 'tbl1xr1'],\n",
       " 'tbl1x': ['ccnc', 'rbpj', 'tbl1x'],\n",
       " 'tle1': ['ccnc', 'crebbp', 'hes1', 'tle1'],\n",
       " 'tle2': ['ccnc', 'crebbp', 'hes1', 'tle2'],\n",
       " 'tle3': ['ccnc', 'crebbp', 'hes1', 'tle3'],\n",
       " 'tle4': ['ccnc', 'crebbp', 'hes1', 'tle4']}"
      ]
     },
     "execution_count": 98,
     "metadata": {},
     "output_type": "execute_result"
    }
   ],
   "source": [
    "shortest_path(G, \"ccnc\")"
   ]
  },
  {
   "cell_type": "code",
   "execution_count": null,
   "metadata": {},
   "outputs": [],
   "source": []
  },
  {
   "cell_type": "code",
   "execution_count": 99,
   "metadata": {},
   "outputs": [],
   "source": [
    "\"\"\"\n",
    "Check if node labels of source and target node are the same\n",
    "\n",
    "Input:\n",
    "    - graph: NetworkX graph\n",
    "    - source: source upstream node\n",
    "\n",
    "Output:\n",
    "    - list of concordant and non-concordant nodes for the source node\n",
    "\"\"\"\n",
    "\n",
    "\n",
    "def count_concordance(graph, source):\n",
    "    same_label = False\n",
    "\n",
    "    nodes_dic = defaultdict(list)\n",
    "\n",
    "    for target, path_nodes in shortest_path(graph, source).items():\n",
    "        print(graph.nodes[source]['label'])\n",
    "        # check if node labels of source and target are the same\n",
    "        if graph.nodes[source]['label'] * graph.nodes[target]['label'] is 1:\n",
    "            same_label = True\n",
    "\n",
    "        # multiply the edge labels\n",
    "        #edge_label = [G[path_nodes[i]][path_nodes[i + 1]]['relation'] * G[path_nodes[i]][path_nodes[i + 1]]['relation']\n",
    "                      #for i in range(len(path_nodes) - 1)]\n",
    "\n",
    "        edge_label = 1\n",
    "        for i in range(len(path_nodes)-1):\n",
    "            temp_edge_label = graph[path_nodes[i]][path_nodes[i+1]]['relation']\n",
    "            edge_label *= temp_edge_label\n",
    "\n",
    "        # concordant node\n",
    "        if same_label == True and edge_label == +1:\n",
    "            graph.nodes[target]['concordance'] = +1\n",
    "            nodes_dic['concordant'].append(target)\n",
    "\n",
    "        # non-concordant node\n",
    "        if same_label == False and edge_label == -1:\n",
    "            graph.nodes[target]['concordance'] = -1\n",
    "            nodes_dic['non-concordant'].append(target)\n",
    "\n",
    "        # no change node\n",
    "        if graph.nodes[source]['label'] == 0 and graph.nodes[target]['label'] == 0:\n",
    "            nodes_dic['no change'].append(target)\n",
    "\n",
    "    return nodes_dic\n"
   ]
  },
  {
   "cell_type": "code",
   "execution_count": 100,
   "metadata": {},
   "outputs": [
    {
     "data": {
      "text/plain": [
       "NodeDataView({'ccnc': {}, 'cdk8': {}, 'crebbp': {}, 'ep300': {}, 'kat2a': {}, 'kat2b': {}, 'maml1': {}, 'maml2': {}, 'maml3': {}, 'mamld1': {}, 'notch1': {}, 'rbpj': {}, 'snw1': {}, 'hes1': {}, 'hes5': {}, 'hey1': {}, 'hey2': {}, 'heyl': {}, 'myc': {}, 'cul1': {}, 'fbxw7': {}, 'rbx1': {}, 'skp1': {}, 'hdac10': {}, 'ncor1': {}, 'ncor2': {}, 'tbl1xr1': {}, 'tbl1x': {}, 'hdac11': {}, 'hdac1': {}, 'hdac2': {}, 'hdac3': {}, 'hdac4': {}, 'hdac5': {}, 'hdac6': {}, 'hdac7': {}, 'hdac8': {}, 'hdac9': {}, 'tle1': {}, 'tle2': {}, 'tle3': {}, 'tle4': {}, 'hif1a': {}, 'rps27a': {}, 'uba52': {}, 'ubb': {}, 'ubc': {}})"
      ]
     },
     "execution_count": 100,
     "metadata": {},
     "output_type": "execute_result"
    }
   ],
   "source": [
    "G.nodes.data()"
   ]
  },
  {
   "cell_type": "code",
   "execution_count": 101,
   "metadata": {},
   "outputs": [
    {
     "ename": "NodeNotFound",
     "evalue": "Source NOTCH1 not in G",
     "output_type": "error",
     "traceback": [
      "\u001b[0;31m---------------------------------------------------------------------------\u001b[0m",
      "\u001b[0;31mNodeNotFound\u001b[0m                              Traceback (most recent call last)",
      "\u001b[0;32m<ipython-input-101-a168632f0dc4>\u001b[0m in \u001b[0;36m<module>\u001b[0;34m\u001b[0m\n\u001b[0;32m----> 1\u001b[0;31m \u001b[0mcount_concordance\u001b[0m\u001b[0;34m(\u001b[0m\u001b[0mG\u001b[0m\u001b[0;34m,\u001b[0m \u001b[0;34m\"NOTCH1\"\u001b[0m\u001b[0;34m)\u001b[0m\u001b[0;34m\u001b[0m\u001b[0;34m\u001b[0m\u001b[0m\n\u001b[0m",
      "\u001b[0;32m<ipython-input-99-c8c746b6aa05>\u001b[0m in \u001b[0;36mcount_concordance\u001b[0;34m(graph, source)\u001b[0m\n\u001b[1;32m     16\u001b[0m     \u001b[0mnodes_dic\u001b[0m \u001b[0;34m=\u001b[0m \u001b[0mdefaultdict\u001b[0m\u001b[0;34m(\u001b[0m\u001b[0mlist\u001b[0m\u001b[0;34m)\u001b[0m\u001b[0;34m\u001b[0m\u001b[0;34m\u001b[0m\u001b[0m\n\u001b[1;32m     17\u001b[0m \u001b[0;34m\u001b[0m\u001b[0m\n\u001b[0;32m---> 18\u001b[0;31m     \u001b[0;32mfor\u001b[0m \u001b[0mtarget\u001b[0m\u001b[0;34m,\u001b[0m \u001b[0mpath_nodes\u001b[0m \u001b[0;32min\u001b[0m \u001b[0mshortest_path\u001b[0m\u001b[0;34m(\u001b[0m\u001b[0mgraph\u001b[0m\u001b[0;34m,\u001b[0m \u001b[0msource\u001b[0m\u001b[0;34m)\u001b[0m\u001b[0;34m.\u001b[0m\u001b[0mitems\u001b[0m\u001b[0;34m(\u001b[0m\u001b[0;34m)\u001b[0m\u001b[0;34m:\u001b[0m\u001b[0;34m\u001b[0m\u001b[0;34m\u001b[0m\u001b[0m\n\u001b[0m\u001b[1;32m     19\u001b[0m         \u001b[0mprint\u001b[0m\u001b[0;34m(\u001b[0m\u001b[0mgraph\u001b[0m\u001b[0;34m.\u001b[0m\u001b[0mnodes\u001b[0m\u001b[0;34m[\u001b[0m\u001b[0msource\u001b[0m\u001b[0;34m]\u001b[0m\u001b[0;34m[\u001b[0m\u001b[0;34m'label'\u001b[0m\u001b[0;34m]\u001b[0m\u001b[0;34m)\u001b[0m\u001b[0;34m\u001b[0m\u001b[0;34m\u001b[0m\u001b[0m\n\u001b[1;32m     20\u001b[0m         \u001b[0;31m# check if node labels of source and target are the same\u001b[0m\u001b[0;34m\u001b[0m\u001b[0;34m\u001b[0m\u001b[0;34m\u001b[0m\u001b[0m\n",
      "\u001b[0;32m<ipython-input-96-74ac1c59c923>\u001b[0m in \u001b[0;36mshortest_path\u001b[0;34m(graph, source)\u001b[0m\n\u001b[1;32m     12\u001b[0m \u001b[0;32mdef\u001b[0m \u001b[0mshortest_path\u001b[0m\u001b[0;34m(\u001b[0m\u001b[0mgraph\u001b[0m\u001b[0;34m,\u001b[0m \u001b[0msource\u001b[0m\u001b[0;34m)\u001b[0m\u001b[0;34m:\u001b[0m\u001b[0;34m\u001b[0m\u001b[0;34m\u001b[0m\u001b[0m\n\u001b[1;32m     13\u001b[0m     \u001b[0;32mfor\u001b[0m \u001b[0mtarget\u001b[0m \u001b[0;32min\u001b[0m \u001b[0mgraph\u001b[0m\u001b[0;34m.\u001b[0m\u001b[0mnodes\u001b[0m\u001b[0;34m(\u001b[0m\u001b[0;34m)\u001b[0m\u001b[0;34m:\u001b[0m\u001b[0;34m\u001b[0m\u001b[0;34m\u001b[0m\u001b[0m\n\u001b[0;32m---> 14\u001b[0;31m         \u001b[0mshortest_paths\u001b[0m \u001b[0;34m=\u001b[0m \u001b[0mnx\u001b[0m\u001b[0;34m.\u001b[0m\u001b[0mshortest_path\u001b[0m\u001b[0;34m(\u001b[0m\u001b[0mgraph\u001b[0m\u001b[0;34m,\u001b[0m \u001b[0msource\u001b[0m\u001b[0;34m)\u001b[0m\u001b[0;34m\u001b[0m\u001b[0;34m\u001b[0m\u001b[0m\n\u001b[0m\u001b[1;32m     15\u001b[0m     \u001b[0;32mreturn\u001b[0m \u001b[0mshortest_paths\u001b[0m\u001b[0;34m\u001b[0m\u001b[0;34m\u001b[0m\u001b[0m\n",
      "\u001b[0;32m//anaconda3/lib/python3.7/site-packages/networkx/algorithms/shortest_paths/generic.py\u001b[0m in \u001b[0;36mshortest_path\u001b[0;34m(G, source, target, weight, method)\u001b[0m\n\u001b[1;32m    158\u001b[0m             \u001b[0;31m# Find paths to all nodes accessible from the source.\u001b[0m\u001b[0;34m\u001b[0m\u001b[0;34m\u001b[0m\u001b[0;34m\u001b[0m\u001b[0m\n\u001b[1;32m    159\u001b[0m             \u001b[0;32mif\u001b[0m \u001b[0mmethod\u001b[0m \u001b[0;34m==\u001b[0m \u001b[0;34m'unweighted'\u001b[0m\u001b[0;34m:\u001b[0m\u001b[0;34m\u001b[0m\u001b[0;34m\u001b[0m\u001b[0m\n\u001b[0;32m--> 160\u001b[0;31m                 \u001b[0mpaths\u001b[0m \u001b[0;34m=\u001b[0m \u001b[0mnx\u001b[0m\u001b[0;34m.\u001b[0m\u001b[0msingle_source_shortest_path\u001b[0m\u001b[0;34m(\u001b[0m\u001b[0mG\u001b[0m\u001b[0;34m,\u001b[0m \u001b[0msource\u001b[0m\u001b[0;34m)\u001b[0m\u001b[0;34m\u001b[0m\u001b[0;34m\u001b[0m\u001b[0m\n\u001b[0m\u001b[1;32m    161\u001b[0m             \u001b[0;32melif\u001b[0m \u001b[0mmethod\u001b[0m \u001b[0;34m==\u001b[0m \u001b[0;34m'dijkstra'\u001b[0m\u001b[0;34m:\u001b[0m\u001b[0;34m\u001b[0m\u001b[0;34m\u001b[0m\u001b[0m\n\u001b[1;32m    162\u001b[0m                 paths = nx.single_source_dijkstra_path(G, source,\n",
      "\u001b[0;32m//anaconda3/lib/python3.7/site-packages/networkx/algorithms/shortest_paths/unweighted.py\u001b[0m in \u001b[0;36msingle_source_shortest_path\u001b[0;34m(G, source, cutoff)\u001b[0m\n\u001b[1;32m    333\u001b[0m     \"\"\"\n\u001b[1;32m    334\u001b[0m     \u001b[0;32mif\u001b[0m \u001b[0msource\u001b[0m \u001b[0;32mnot\u001b[0m \u001b[0;32min\u001b[0m \u001b[0mG\u001b[0m\u001b[0;34m:\u001b[0m\u001b[0;34m\u001b[0m\u001b[0;34m\u001b[0m\u001b[0m\n\u001b[0;32m--> 335\u001b[0;31m         \u001b[0;32mraise\u001b[0m \u001b[0mnx\u001b[0m\u001b[0;34m.\u001b[0m\u001b[0mNodeNotFound\u001b[0m\u001b[0;34m(\u001b[0m\u001b[0;34m\"Source {} not in G\"\u001b[0m\u001b[0;34m.\u001b[0m\u001b[0mformat\u001b[0m\u001b[0;34m(\u001b[0m\u001b[0msource\u001b[0m\u001b[0;34m)\u001b[0m\u001b[0;34m)\u001b[0m\u001b[0;34m\u001b[0m\u001b[0;34m\u001b[0m\u001b[0m\n\u001b[0m\u001b[1;32m    336\u001b[0m \u001b[0;34m\u001b[0m\u001b[0m\n\u001b[1;32m    337\u001b[0m     \u001b[0;32mdef\u001b[0m \u001b[0mjoin\u001b[0m\u001b[0;34m(\u001b[0m\u001b[0mp1\u001b[0m\u001b[0;34m,\u001b[0m \u001b[0mp2\u001b[0m\u001b[0;34m)\u001b[0m\u001b[0;34m:\u001b[0m\u001b[0;34m\u001b[0m\u001b[0;34m\u001b[0m\u001b[0m\n",
      "\u001b[0;31mNodeNotFound\u001b[0m: Source NOTCH1 not in G"
     ]
    }
   ],
   "source": [
    "count_concordance(G, \"NOTCH1\")"
   ]
  },
  {
   "cell_type": "code",
   "execution_count": null,
   "metadata": {},
   "outputs": [],
   "source": []
  },
  {
   "cell_type": "code",
   "execution_count": 26,
   "metadata": {},
   "outputs": [],
   "source": [
    "\n",
    "\"\"\"\n",
    "Returns a dictionary of the nodes of the graph with their according\n",
    "     - shortest path nodes\n",
    "     - concordant nodes\n",
    "     - non-concordant nodes\n",
    "     - no change nodes\n",
    "\n",
    "Input:\n",
    "    - graph\n",
    "\n",
    "Output:\n",
    "    - dictionary of nodes \n",
    "\"\"\"\n",
    "def nodes_dictionary(graph):\n",
    "    dic = {}\n",
    "    for node in graph.nodes():\n",
    "        dic[node] = {}\n",
    "\n",
    "        # concordant, non-concordant and no change nodes\n",
    "        dic[node] = count_concordance(graph, node)\n",
    "\n",
    "        # shortest path nodes\n",
    "        dic[node]['shortest_path'] = list(shortest_path(graph, node).keys())\n",
    "\n",
    "    return dic\n"
   ]
  },
  {
   "cell_type": "code",
   "execution_count": 27,
   "metadata": {},
   "outputs": [
    {
     "ename": "KeyError",
     "evalue": "'CCNC'",
     "output_type": "error",
     "traceback": [
      "\u001b[0;31m---------------------------------------------------------------------------\u001b[0m",
      "\u001b[0;31mKeyError\u001b[0m                                  Traceback (most recent call last)",
      "\u001b[0;32m<ipython-input-27-58b2597d660f>\u001b[0m in \u001b[0;36m<module>\u001b[0;34m\u001b[0m\n\u001b[0;32m----> 1\u001b[0;31m \u001b[0mnodes_dictionary\u001b[0m\u001b[0;34m(\u001b[0m\u001b[0mG\u001b[0m\u001b[0;34m)\u001b[0m\u001b[0;34m[\u001b[0m\u001b[0;34m'CCNC'\u001b[0m\u001b[0;34m]\u001b[0m\u001b[0;34m\u001b[0m\u001b[0;34m\u001b[0m\u001b[0m\n\u001b[0m",
      "\u001b[0;31mKeyError\u001b[0m: 'CCNC'"
     ]
    }
   ],
   "source": [
    "nodes_dictionary(G)['CCNC']"
   ]
  },
  {
   "cell_type": "code",
   "execution_count": 28,
   "metadata": {},
   "outputs": [],
   "source": [
    "\"\"\"\n",
    "Calculates the concordance for an upstream node with its downstream nodes\n",
    "Probability of getting at least the number of state changes consistent\n",
    "with the direction\n",
    "Input:\n",
    "    - graph\n",
    "    - p : probability of achieving a result\n",
    "\n",
    "Output:\n",
    "    - dictionary of p-values and corrected p-values for concordance\n",
    "\"\"\"\n",
    "def calculate_concordance(graph):\n",
    "    concordance_dic = {}\n",
    "\n",
    "    #assert 0 <= p and p <= 1, \"p must be within [0,1]\"\n",
    "\n",
    "    for hyp_node in graph.nodes():\n",
    "        \n",
    "        if hyp_node not in graph.nodes():\n",
    "            raise ValueError(f\"The node {hyp_node} is not in the graph.\")\n",
    "        \n",
    "        # n is number of trials\n",
    "        n = len(shortest_path(graph, hyp_node).keys())\n",
    "        # k is number of successful predictions\n",
    "        k = len(count_concordance(graph, hyp_node)['concordant'])\n",
    "\n",
    "        bin_coeff = special.binom(n, k)\n",
    "        concordance = bin_coeff * (0.5 ** k) * (1 - 0.5) ** (n - k)\n",
    "        concordance_dic[hyp_node] = {}\n",
    "        concordance_dic[hyp_node]['p_val'] = concordance\n",
    "\n",
    "    # correction for multiple testing\n",
    "    pval_list = [concordance_dic[hyp_node]['p_val'] for hyp_node in graph.nodes()]\n",
    "    reject, pvals_corrected = multitest.multipletests(pval_list,alpha=0.05,method='bonferroni')[:2]\n",
    "    corrected_concordance_dic = {}\n",
    "    for node, pval in zip(graph.nodes(),pvals_corrected):\n",
    "        concordance_dic[node]['p_val_corrected'] = pval\n",
    "\n",
    "    return concordance_dic"
   ]
  },
  {
   "cell_type": "code",
   "execution_count": 29,
   "metadata": {},
   "outputs": [
    {
     "ename": "ZeroDivisionError",
     "evalue": "float division by zero",
     "output_type": "error",
     "traceback": [
      "\u001b[0;31m---------------------------------------------------------------------------\u001b[0m",
      "\u001b[0;31mZeroDivisionError\u001b[0m                         Traceback (most recent call last)",
      "\u001b[0;32m<ipython-input-29-9e1a83536cb4>\u001b[0m in \u001b[0;36m<module>\u001b[0;34m\u001b[0m\n\u001b[0;32m----> 1\u001b[0;31m \u001b[0mcalculate_concordance\u001b[0m\u001b[0;34m(\u001b[0m\u001b[0mG\u001b[0m\u001b[0;34m)\u001b[0m\u001b[0;34m\u001b[0m\u001b[0;34m\u001b[0m\u001b[0m\n\u001b[0m",
      "\u001b[0;32m<ipython-input-28-03a11898b7e4>\u001b[0m in \u001b[0;36mcalculate_concordance\u001b[0;34m(graph)\u001b[0m\n\u001b[1;32m     32\u001b[0m     \u001b[0;31m# correction for multiple testing\u001b[0m\u001b[0;34m\u001b[0m\u001b[0;34m\u001b[0m\u001b[0;34m\u001b[0m\u001b[0m\n\u001b[1;32m     33\u001b[0m     \u001b[0mpval_list\u001b[0m \u001b[0;34m=\u001b[0m \u001b[0;34m[\u001b[0m\u001b[0mconcordance_dic\u001b[0m\u001b[0;34m[\u001b[0m\u001b[0mhyp_node\u001b[0m\u001b[0;34m]\u001b[0m\u001b[0;34m[\u001b[0m\u001b[0;34m'p_val'\u001b[0m\u001b[0;34m]\u001b[0m \u001b[0;32mfor\u001b[0m \u001b[0mhyp_node\u001b[0m \u001b[0;32min\u001b[0m \u001b[0mgraph\u001b[0m\u001b[0;34m.\u001b[0m\u001b[0mnodes\u001b[0m\u001b[0;34m(\u001b[0m\u001b[0;34m)\u001b[0m\u001b[0;34m]\u001b[0m\u001b[0;34m\u001b[0m\u001b[0;34m\u001b[0m\u001b[0m\n\u001b[0;32m---> 34\u001b[0;31m     \u001b[0mreject\u001b[0m\u001b[0;34m,\u001b[0m \u001b[0mpvals_corrected\u001b[0m \u001b[0;34m=\u001b[0m \u001b[0mmultitest\u001b[0m\u001b[0;34m.\u001b[0m\u001b[0mmultipletests\u001b[0m\u001b[0;34m(\u001b[0m\u001b[0mpval_list\u001b[0m\u001b[0;34m,\u001b[0m\u001b[0malpha\u001b[0m\u001b[0;34m=\u001b[0m\u001b[0;36m0.05\u001b[0m\u001b[0;34m,\u001b[0m\u001b[0mmethod\u001b[0m\u001b[0;34m=\u001b[0m\u001b[0;34m'bonferroni'\u001b[0m\u001b[0;34m)\u001b[0m\u001b[0;34m[\u001b[0m\u001b[0;34m:\u001b[0m\u001b[0;36m2\u001b[0m\u001b[0;34m]\u001b[0m\u001b[0;34m\u001b[0m\u001b[0;34m\u001b[0m\u001b[0m\n\u001b[0m\u001b[1;32m     35\u001b[0m     \u001b[0mcorrected_concordance_dic\u001b[0m \u001b[0;34m=\u001b[0m \u001b[0;34m{\u001b[0m\u001b[0;34m}\u001b[0m\u001b[0;34m\u001b[0m\u001b[0;34m\u001b[0m\u001b[0m\n\u001b[1;32m     36\u001b[0m     \u001b[0;32mfor\u001b[0m \u001b[0mnode\u001b[0m\u001b[0;34m,\u001b[0m \u001b[0mpval\u001b[0m \u001b[0;32min\u001b[0m \u001b[0mzip\u001b[0m\u001b[0;34m(\u001b[0m\u001b[0mgraph\u001b[0m\u001b[0;34m.\u001b[0m\u001b[0mnodes\u001b[0m\u001b[0;34m(\u001b[0m\u001b[0;34m)\u001b[0m\u001b[0;34m,\u001b[0m\u001b[0mpvals_corrected\u001b[0m\u001b[0;34m)\u001b[0m\u001b[0;34m:\u001b[0m\u001b[0;34m\u001b[0m\u001b[0;34m\u001b[0m\u001b[0m\n",
      "\u001b[0;32m//anaconda3/lib/python3.7/site-packages/statsmodels/stats/multitest.py\u001b[0m in \u001b[0;36mmultipletests\u001b[0;34m(pvals, alpha, method, is_sorted, returnsorted)\u001b[0m\n\u001b[1;32m    148\u001b[0m \u001b[0;34m\u001b[0m\u001b[0m\n\u001b[1;32m    149\u001b[0m     \u001b[0mntests\u001b[0m \u001b[0;34m=\u001b[0m \u001b[0mlen\u001b[0m\u001b[0;34m(\u001b[0m\u001b[0mpvals\u001b[0m\u001b[0;34m)\u001b[0m\u001b[0;34m\u001b[0m\u001b[0;34m\u001b[0m\u001b[0m\n\u001b[0;32m--> 150\u001b[0;31m     \u001b[0malphacSidak\u001b[0m \u001b[0;34m=\u001b[0m \u001b[0;36m1\u001b[0m \u001b[0;34m-\u001b[0m \u001b[0mnp\u001b[0m\u001b[0;34m.\u001b[0m\u001b[0mpower\u001b[0m\u001b[0;34m(\u001b[0m\u001b[0;34m(\u001b[0m\u001b[0;36m1.\u001b[0m \u001b[0;34m-\u001b[0m \u001b[0malphaf\u001b[0m\u001b[0;34m)\u001b[0m\u001b[0;34m,\u001b[0m \u001b[0;36m1.\u001b[0m\u001b[0;34m/\u001b[0m\u001b[0mntests\u001b[0m\u001b[0;34m)\u001b[0m\u001b[0;34m\u001b[0m\u001b[0;34m\u001b[0m\u001b[0m\n\u001b[0m\u001b[1;32m    151\u001b[0m     \u001b[0malphacBonf\u001b[0m \u001b[0;34m=\u001b[0m \u001b[0malphaf\u001b[0m \u001b[0;34m/\u001b[0m \u001b[0mfloat\u001b[0m\u001b[0;34m(\u001b[0m\u001b[0mntests\u001b[0m\u001b[0;34m)\u001b[0m\u001b[0;34m\u001b[0m\u001b[0;34m\u001b[0m\u001b[0m\n\u001b[1;32m    152\u001b[0m     \u001b[0;32mif\u001b[0m \u001b[0mmethod\u001b[0m\u001b[0;34m.\u001b[0m\u001b[0mlower\u001b[0m\u001b[0;34m(\u001b[0m\u001b[0;34m)\u001b[0m \u001b[0;32min\u001b[0m \u001b[0;34m[\u001b[0m\u001b[0;34m'b'\u001b[0m\u001b[0;34m,\u001b[0m \u001b[0;34m'bonf'\u001b[0m\u001b[0;34m,\u001b[0m \u001b[0;34m'bonferroni'\u001b[0m\u001b[0;34m]\u001b[0m\u001b[0;34m:\u001b[0m\u001b[0;34m\u001b[0m\u001b[0;34m\u001b[0m\u001b[0m\n",
      "\u001b[0;31mZeroDivisionError\u001b[0m: float division by zero"
     ]
    }
   ],
   "source": [
    "calculate_concordance(G)\n"
   ]
  },
  {
   "cell_type": "code",
   "execution_count": 30,
   "metadata": {},
   "outputs": [],
   "source": [
    "\"\"\"\n",
    "Writes the values for nodes, concordant_nodes, non_concordant_nodes, no_change_nodes, p_val, p_val_corrected to a csv file\n",
    "\n",
    "Input:\n",
    "- graph\n",
    "- csv_output : path for output file \n",
    "\n",
    "Output:\n",
    "- csv file\n",
    "\"\"\"\n",
    "def create_concordant_df(graph, csv_output):\n",
    "    rows = []\n",
    "    for node in graph.nodes():\n",
    "        node_dict = {}\n",
    "        node_dict['node'] = node\n",
    "        node_dict['concordant_nodes'] = len(count_concordance(graph, node)['concordant'])\n",
    "        node_dict['non_concordant_nodes'] = len(count_concordance(graph, node)['non-concordant'])\n",
    "        node_dict['no_change'] = len(count_concordance(graph, node)['no change'])\n",
    "        node_dict['p_val'] = calculate_concordance(graph)[node]['p_val']\n",
    "        node_dict['p_val_corrected'] = calculate_concordance(graph)[node]['p_val_corrected']\n",
    "        \n",
    "        rows.append(node_dict)\n",
    "        \n",
    "    df_ = pd.DataFrame(rows)\n",
    "    \n",
    "    df_.to_csv(csv_output)\n",
    "        \n",
    "\n",
    "        \n",
    "        "
   ]
  },
  {
   "cell_type": "code",
   "execution_count": 31,
   "metadata": {},
   "outputs": [],
   "source": [
    "create_concordant_df(G, \"/Users/sophiakrix/Desktop/Concordance_test.csv\")"
   ]
  },
  {
   "cell_type": "code",
   "execution_count": 32,
   "metadata": {},
   "outputs": [
    {
     "name": "stdout",
     "output_type": "stream",
     "text": [
      "Here: /Users/sophiakrix/git/MechanismEnrichmentLab\n",
      "/Users/sophiakrix/git/MechanismEnrichmentLab/data/example_dgxp.txt\n"
     ]
    }
   ],
   "source": [
    "import os.path\n",
    "import pandas as pd\n",
    "\n",
    "print('Here:',os.path.abspath(os.path.dirname(\"__file__\")))\n",
    "\n",
    "try:\n",
    "    dgxp_file = os.path.join(os.path.abspath(os.path.dirname(\"__file__\")),'data', 'example_dgxp.txt')\n",
    "except NameError:  # We are the main py2exe script, not a module\n",
    "    import sys\n",
    "    dgxp_file = os.path.join(os.path.abspath(os.path.dirname(sys.argv[0])),'data', 'example_dgxp.txt')\n",
    "\n",
    "#dgxp_file = os.path.join(os.path.abspath(os.path.dirname(os.path.dirname(os.path.dirname(__file__)))),'data', 'example_dgxp.txt')\n",
    "print(dgxp_file)\n",
    "df = pd.read_csv(dgxp_file, sep='\\t', index_col = 'Gene.symbol')\n",
    "df.index = df.index.str.lower()"
   ]
  },
  {
   "cell_type": "code",
   "execution_count": 33,
   "metadata": {},
   "outputs": [
    {
     "data": {
      "text/html": [
       "<div>\n",
       "<style scoped>\n",
       "    .dataframe tbody tr th:only-of-type {\n",
       "        vertical-align: middle;\n",
       "    }\n",
       "\n",
       "    .dataframe tbody tr th {\n",
       "        vertical-align: top;\n",
       "    }\n",
       "\n",
       "    .dataframe thead th {\n",
       "        text-align: right;\n",
       "    }\n",
       "</style>\n",
       "<table border=\"1\" class=\"dataframe\">\n",
       "  <thead>\n",
       "    <tr style=\"text-align: right;\">\n",
       "      <th></th>\n",
       "      <th>ID</th>\n",
       "      <th>adj.P.Val</th>\n",
       "      <th>P.Value</th>\n",
       "      <th>t</th>\n",
       "      <th>B</th>\n",
       "      <th>logFC</th>\n",
       "      <th>Gene.title</th>\n",
       "    </tr>\n",
       "    <tr>\n",
       "      <th>Gene.symbol</th>\n",
       "      <th></th>\n",
       "      <th></th>\n",
       "      <th></th>\n",
       "      <th></th>\n",
       "      <th></th>\n",
       "      <th></th>\n",
       "      <th></th>\n",
       "    </tr>\n",
       "  </thead>\n",
       "  <tbody>\n",
       "    <tr>\n",
       "      <th>NaN</th>\n",
       "      <td>10415081</td>\n",
       "      <td>1.950000e-08</td>\n",
       "      <td>2.190000e-12</td>\n",
       "      <td>-28.259642</td>\n",
       "      <td>11.23514</td>\n",
       "      <td>-5.81675</td>\n",
       "      <td>NaN</td>\n",
       "    </tr>\n",
       "    <tr>\n",
       "      <th>NaN</th>\n",
       "      <td>10520121</td>\n",
       "      <td>1.950000e-08</td>\n",
       "      <td>2.190000e-12</td>\n",
       "      <td>-28.259642</td>\n",
       "      <td>11.23514</td>\n",
       "      <td>-5.81675</td>\n",
       "      <td>NaN</td>\n",
       "    </tr>\n",
       "    <tr>\n",
       "      <th>NaN</th>\n",
       "      <td>10578405</td>\n",
       "      <td>1.950000e-08</td>\n",
       "      <td>2.190000e-12</td>\n",
       "      <td>-28.259642</td>\n",
       "      <td>11.23514</td>\n",
       "      <td>-5.81675</td>\n",
       "      <td>NaN</td>\n",
       "    </tr>\n",
       "    <tr>\n",
       "      <th>NaN</th>\n",
       "      <td>10586076</td>\n",
       "      <td>1.950000e-08</td>\n",
       "      <td>2.190000e-12</td>\n",
       "      <td>-28.259642</td>\n",
       "      <td>11.23514</td>\n",
       "      <td>-5.81675</td>\n",
       "      <td>NaN</td>\n",
       "    </tr>\n",
       "    <tr>\n",
       "      <th>cers4</th>\n",
       "      <td>10569972</td>\n",
       "      <td>4.050000e-04</td>\n",
       "      <td>6.780000e-08</td>\n",
       "      <td>-11.595062</td>\n",
       "      <td>7.06249</td>\n",
       "      <td>-1.53425</td>\n",
       "      <td>ceramide synthase 4</td>\n",
       "    </tr>\n",
       "  </tbody>\n",
       "</table>\n",
       "</div>"
      ],
      "text/plain": [
       "                   ID     adj.P.Val       P.Value          t         B  \\\n",
       "Gene.symbol                                                              \n",
       "NaN          10415081  1.950000e-08  2.190000e-12 -28.259642  11.23514   \n",
       "NaN          10520121  1.950000e-08  2.190000e-12 -28.259642  11.23514   \n",
       "NaN          10578405  1.950000e-08  2.190000e-12 -28.259642  11.23514   \n",
       "NaN          10586076  1.950000e-08  2.190000e-12 -28.259642  11.23514   \n",
       "cers4        10569972  4.050000e-04  6.780000e-08 -11.595062   7.06249   \n",
       "\n",
       "               logFC           Gene.title  \n",
       "Gene.symbol                                \n",
       "NaN         -5.81675                  NaN  \n",
       "NaN         -5.81675                  NaN  \n",
       "NaN         -5.81675                  NaN  \n",
       "NaN         -5.81675                  NaN  \n",
       "cers4       -1.53425  ceramide synthase 4  "
      ]
     },
     "execution_count": 33,
     "metadata": {},
     "output_type": "execute_result"
    }
   ],
   "source": [
    "df.head()"
   ]
  },
  {
   "cell_type": "code",
   "execution_count": 34,
   "metadata": {},
   "outputs": [],
   "source": [
    "df_dgxp = df[['logFC', 'adj.P.Val']].copy()"
   ]
  },
  {
   "cell_type": "code",
   "execution_count": 35,
   "metadata": {},
   "outputs": [],
   "source": [
    "df_dgxp.columns = [\"fold-change\", \"p-value\"]"
   ]
  },
  {
   "cell_type": "code",
   "execution_count": 36,
   "metadata": {},
   "outputs": [
    {
     "data": {
      "text/plain": [
       "35556"
      ]
     },
     "execution_count": 36,
     "metadata": {},
     "output_type": "execute_result"
    }
   ],
   "source": [
    "len(df_dgxp)"
   ]
  },
  {
   "cell_type": "code",
   "execution_count": 37,
   "metadata": {},
   "outputs": [
    {
     "data": {
      "text/html": [
       "<div>\n",
       "<style scoped>\n",
       "    .dataframe tbody tr th:only-of-type {\n",
       "        vertical-align: middle;\n",
       "    }\n",
       "\n",
       "    .dataframe tbody tr th {\n",
       "        vertical-align: top;\n",
       "    }\n",
       "\n",
       "    .dataframe thead th {\n",
       "        text-align: right;\n",
       "    }\n",
       "</style>\n",
       "<table border=\"1\" class=\"dataframe\">\n",
       "  <thead>\n",
       "    <tr style=\"text-align: right;\">\n",
       "      <th></th>\n",
       "      <th>fold-change</th>\n",
       "      <th>p-value</th>\n",
       "    </tr>\n",
       "    <tr>\n",
       "      <th>Gene.symbol</th>\n",
       "      <th></th>\n",
       "      <th></th>\n",
       "    </tr>\n",
       "  </thead>\n",
       "  <tbody>\n",
       "    <tr>\n",
       "      <th>NaN</th>\n",
       "      <td>-5.81675</td>\n",
       "      <td>1.950000e-08</td>\n",
       "    </tr>\n",
       "    <tr>\n",
       "      <th>NaN</th>\n",
       "      <td>-5.81675</td>\n",
       "      <td>1.950000e-08</td>\n",
       "    </tr>\n",
       "    <tr>\n",
       "      <th>NaN</th>\n",
       "      <td>-5.81675</td>\n",
       "      <td>1.950000e-08</td>\n",
       "    </tr>\n",
       "    <tr>\n",
       "      <th>NaN</th>\n",
       "      <td>-5.81675</td>\n",
       "      <td>1.950000e-08</td>\n",
       "    </tr>\n",
       "    <tr>\n",
       "      <th>cers4</th>\n",
       "      <td>-1.53425</td>\n",
       "      <td>4.050000e-04</td>\n",
       "    </tr>\n",
       "  </tbody>\n",
       "</table>\n",
       "</div>"
      ],
      "text/plain": [
       "             fold-change       p-value\n",
       "Gene.symbol                           \n",
       "NaN             -5.81675  1.950000e-08\n",
       "NaN             -5.81675  1.950000e-08\n",
       "NaN             -5.81675  1.950000e-08\n",
       "NaN             -5.81675  1.950000e-08\n",
       "cers4           -1.53425  4.050000e-04"
      ]
     },
     "execution_count": 37,
     "metadata": {},
     "output_type": "execute_result"
    }
   ],
   "source": [
    "df_dgxp.head()"
   ]
  },
  {
   "cell_type": "code",
   "execution_count": 38,
   "metadata": {},
   "outputs": [],
   "source": [
    "df_dgxp = df_dgxp.dropna()"
   ]
  },
  {
   "cell_type": "code",
   "execution_count": 39,
   "metadata": {},
   "outputs": [
    {
     "data": {
      "text/html": [
       "<div>\n",
       "<style scoped>\n",
       "    .dataframe tbody tr th:only-of-type {\n",
       "        vertical-align: middle;\n",
       "    }\n",
       "\n",
       "    .dataframe tbody tr th {\n",
       "        vertical-align: top;\n",
       "    }\n",
       "\n",
       "    .dataframe thead th {\n",
       "        text-align: right;\n",
       "    }\n",
       "</style>\n",
       "<table border=\"1\" class=\"dataframe\">\n",
       "  <thead>\n",
       "    <tr style=\"text-align: right;\">\n",
       "      <th></th>\n",
       "      <th>fold-change</th>\n",
       "      <th>p-value</th>\n",
       "    </tr>\n",
       "    <tr>\n",
       "      <th>Gene.symbol</th>\n",
       "      <th></th>\n",
       "      <th></th>\n",
       "    </tr>\n",
       "  </thead>\n",
       "  <tbody>\n",
       "    <tr>\n",
       "      <th>NaN</th>\n",
       "      <td>-5.81675</td>\n",
       "      <td>1.950000e-08</td>\n",
       "    </tr>\n",
       "    <tr>\n",
       "      <th>NaN</th>\n",
       "      <td>-5.81675</td>\n",
       "      <td>1.950000e-08</td>\n",
       "    </tr>\n",
       "    <tr>\n",
       "      <th>NaN</th>\n",
       "      <td>-5.81675</td>\n",
       "      <td>1.950000e-08</td>\n",
       "    </tr>\n",
       "    <tr>\n",
       "      <th>NaN</th>\n",
       "      <td>-5.81675</td>\n",
       "      <td>1.950000e-08</td>\n",
       "    </tr>\n",
       "    <tr>\n",
       "      <th>cers4</th>\n",
       "      <td>-1.53425</td>\n",
       "      <td>4.050000e-04</td>\n",
       "    </tr>\n",
       "  </tbody>\n",
       "</table>\n",
       "</div>"
      ],
      "text/plain": [
       "             fold-change       p-value\n",
       "Gene.symbol                           \n",
       "NaN             -5.81675  1.950000e-08\n",
       "NaN             -5.81675  1.950000e-08\n",
       "NaN             -5.81675  1.950000e-08\n",
       "NaN             -5.81675  1.950000e-08\n",
       "cers4           -1.53425  4.050000e-04"
      ]
     },
     "execution_count": 39,
     "metadata": {},
     "output_type": "execute_result"
    }
   ],
   "source": [
    "df_dgxp.head()"
   ]
  },
  {
   "cell_type": "code",
   "execution_count": 40,
   "metadata": {},
   "outputs": [],
   "source": [
    "df_dgxp.index = df_dgxp.index.str.lower() "
   ]
  },
  {
   "cell_type": "code",
   "execution_count": 41,
   "metadata": {},
   "outputs": [
    {
     "data": {
      "text/html": [
       "<div>\n",
       "<style scoped>\n",
       "    .dataframe tbody tr th:only-of-type {\n",
       "        vertical-align: middle;\n",
       "    }\n",
       "\n",
       "    .dataframe tbody tr th {\n",
       "        vertical-align: top;\n",
       "    }\n",
       "\n",
       "    .dataframe thead th {\n",
       "        text-align: right;\n",
       "    }\n",
       "</style>\n",
       "<table border=\"1\" class=\"dataframe\">\n",
       "  <thead>\n",
       "    <tr style=\"text-align: right;\">\n",
       "      <th></th>\n",
       "      <th>fold-change</th>\n",
       "      <th>p-value</th>\n",
       "    </tr>\n",
       "    <tr>\n",
       "      <th>Gene.symbol</th>\n",
       "      <th></th>\n",
       "      <th></th>\n",
       "    </tr>\n",
       "  </thead>\n",
       "  <tbody>\n",
       "    <tr>\n",
       "      <th>NaN</th>\n",
       "      <td>-5.81675</td>\n",
       "      <td>1.950000e-08</td>\n",
       "    </tr>\n",
       "    <tr>\n",
       "      <th>NaN</th>\n",
       "      <td>-5.81675</td>\n",
       "      <td>1.950000e-08</td>\n",
       "    </tr>\n",
       "    <tr>\n",
       "      <th>NaN</th>\n",
       "      <td>-5.81675</td>\n",
       "      <td>1.950000e-08</td>\n",
       "    </tr>\n",
       "    <tr>\n",
       "      <th>NaN</th>\n",
       "      <td>-5.81675</td>\n",
       "      <td>1.950000e-08</td>\n",
       "    </tr>\n",
       "    <tr>\n",
       "      <th>cers4</th>\n",
       "      <td>-1.53425</td>\n",
       "      <td>4.050000e-04</td>\n",
       "    </tr>\n",
       "  </tbody>\n",
       "</table>\n",
       "</div>"
      ],
      "text/plain": [
       "             fold-change       p-value\n",
       "Gene.symbol                           \n",
       "NaN             -5.81675  1.950000e-08\n",
       "NaN             -5.81675  1.950000e-08\n",
       "NaN             -5.81675  1.950000e-08\n",
       "NaN             -5.81675  1.950000e-08\n",
       "cers4           -1.53425  4.050000e-04"
      ]
     },
     "execution_count": 41,
     "metadata": {},
     "output_type": "execute_result"
    }
   ],
   "source": [
    "df_dgxp.head()"
   ]
  },
  {
   "cell_type": "code",
   "execution_count": 42,
   "metadata": {},
   "outputs": [],
   "source": [
    "#df_dgxp.loc[4,]"
   ]
  },
  {
   "cell_type": "code",
   "execution_count": 43,
   "metadata": {},
   "outputs": [
    {
     "data": {
      "text/plain": [
       "\"# alternative gene names\\n\\nfor gene in df_dgxp.loc[:, 'gene']:\\n    print(gene)\\n    print(df_dgxp.loc[gene, 'gene'])\\n    \\n    if '///' in df_dgxp.loc[gene, 'gene']:\\n        gene_names = gene.split('///')\\n        df_dgxp.gene.replace(gene, gene_names, in_place=True)\\n\""
      ]
     },
     "execution_count": 43,
     "metadata": {},
     "output_type": "execute_result"
    }
   ],
   "source": [
    "\"\"\"# alternative gene names\n",
    "\n",
    "for gene in df_dgxp.loc[:, 'gene']:\n",
    "    print(gene)\n",
    "    print(df_dgxp.loc[gene, 'gene'])\n",
    "    \n",
    "    if '///' in df_dgxp.loc[gene, 'gene']:\n",
    "        gene_names = gene.split('///')\n",
    "        df_dgxp.gene.replace(gene, gene_names, in_place=True)\n",
    "\"\"\""
   ]
  },
  {
   "cell_type": "code",
   "execution_count": 44,
   "metadata": {},
   "outputs": [
    {
     "data": {
      "text/html": [
       "<div>\n",
       "<style scoped>\n",
       "    .dataframe tbody tr th:only-of-type {\n",
       "        vertical-align: middle;\n",
       "    }\n",
       "\n",
       "    .dataframe tbody tr th {\n",
       "        vertical-align: top;\n",
       "    }\n",
       "\n",
       "    .dataframe thead th {\n",
       "        text-align: right;\n",
       "    }\n",
       "</style>\n",
       "<table border=\"1\" class=\"dataframe\">\n",
       "  <thead>\n",
       "    <tr style=\"text-align: right;\">\n",
       "      <th></th>\n",
       "      <th>fold-change</th>\n",
       "      <th>p-value</th>\n",
       "    </tr>\n",
       "    <tr>\n",
       "      <th>Gene.symbol</th>\n",
       "      <th></th>\n",
       "      <th></th>\n",
       "    </tr>\n",
       "  </thead>\n",
       "  <tbody>\n",
       "    <tr>\n",
       "      <th>NaN</th>\n",
       "      <td>-5.81675</td>\n",
       "      <td>1.950000e-08</td>\n",
       "    </tr>\n",
       "    <tr>\n",
       "      <th>NaN</th>\n",
       "      <td>-5.81675</td>\n",
       "      <td>1.950000e-08</td>\n",
       "    </tr>\n",
       "    <tr>\n",
       "      <th>NaN</th>\n",
       "      <td>-5.81675</td>\n",
       "      <td>1.950000e-08</td>\n",
       "    </tr>\n",
       "    <tr>\n",
       "      <th>NaN</th>\n",
       "      <td>-5.81675</td>\n",
       "      <td>1.950000e-08</td>\n",
       "    </tr>\n",
       "    <tr>\n",
       "      <th>cers4</th>\n",
       "      <td>-1.53425</td>\n",
       "      <td>4.050000e-04</td>\n",
       "    </tr>\n",
       "  </tbody>\n",
       "</table>\n",
       "</div>"
      ],
      "text/plain": [
       "             fold-change       p-value\n",
       "Gene.symbol                           \n",
       "NaN             -5.81675  1.950000e-08\n",
       "NaN             -5.81675  1.950000e-08\n",
       "NaN             -5.81675  1.950000e-08\n",
       "NaN             -5.81675  1.950000e-08\n",
       "cers4           -1.53425  4.050000e-04"
      ]
     },
     "execution_count": 44,
     "metadata": {},
     "output_type": "execute_result"
    }
   ],
   "source": [
    "df_dgxp.head()\n"
   ]
  },
  {
   "cell_type": "code",
   "execution_count": 45,
   "metadata": {},
   "outputs": [
    {
     "name": "stdout",
     "output_type": "stream",
     "text": [
      "pval filtered: 35508\n",
      "thr filtered: 12216\n"
     ]
    },
    {
     "name": "stderr",
     "output_type": "stream",
     "text": [
      "//anaconda3/lib/python3.7/site-packages/ipykernel_launcher.py:13: SettingWithCopyWarning: \n",
      "A value is trying to be set on a copy of a slice from a DataFrame\n",
      "\n",
      "See the caveats in the documentation: http://pandas.pydata.org/pandas-docs/stable/user_guide/indexing.html#returning-a-view-versus-a-copy\n",
      "  del sys.path[0]\n",
      "//anaconda3/lib/python3.7/site-packages/ipykernel_launcher.py:14: SettingWithCopyWarning: \n",
      "A value is trying to be set on a copy of a slice from a DataFrame\n",
      "\n",
      "See the caveats in the documentation: http://pandas.pydata.org/pandas-docs/stable/user_guide/indexing.html#returning-a-view-versus-a-copy\n",
      "  \n"
     ]
    }
   ],
   "source": [
    "DGXPCOLUMNS = [\"gene\", \"fold-change\", \"p-value\"]\n",
    "threshold = 0.2\n",
    "\n",
    "# filter dgxp\n",
    "\n",
    "# filter nodes with p-value < 0.05\n",
    "df_dgxp_pval_filtered = df_dgxp.loc[df_dgxp[DGXPCOLUMNS[2]] < 1.0]\n",
    "print('pval filtered:',len(df_dgxp_pval_filtered))\n",
    "# filter nodes with threshold (given by user)\n",
    "df_dgxp_thr_filtered = df_dgxp_pval_filtered.loc[abs(df_dgxp_pval_filtered[DGXPCOLUMNS[1]]) > threshold]\n",
    "print('thr filtered:',len(df_dgxp_thr_filtered))\n",
    "# set fold change labels from float to +1 or -1\n",
    "df_dgxp_thr_filtered['fold-change'].loc[(df_dgxp_thr_filtered[DGXPCOLUMNS[1]] > 0)] = +1\n",
    "df_dgxp_thr_filtered['fold-change'].loc[(df_dgxp_thr_filtered[DGXPCOLUMNS[1]] < 0)] = -1"
   ]
  },
  {
   "cell_type": "code",
   "execution_count": 46,
   "metadata": {},
   "outputs": [
    {
     "data": {
      "text/html": [
       "<div>\n",
       "<style scoped>\n",
       "    .dataframe tbody tr th:only-of-type {\n",
       "        vertical-align: middle;\n",
       "    }\n",
       "\n",
       "    .dataframe tbody tr th {\n",
       "        vertical-align: top;\n",
       "    }\n",
       "\n",
       "    .dataframe thead th {\n",
       "        text-align: right;\n",
       "    }\n",
       "</style>\n",
       "<table border=\"1\" class=\"dataframe\">\n",
       "  <thead>\n",
       "    <tr style=\"text-align: right;\">\n",
       "      <th></th>\n",
       "      <th>fold-change</th>\n",
       "      <th>p-value</th>\n",
       "    </tr>\n",
       "    <tr>\n",
       "      <th>Gene.symbol</th>\n",
       "      <th></th>\n",
       "      <th></th>\n",
       "    </tr>\n",
       "  </thead>\n",
       "  <tbody>\n",
       "    <tr>\n",
       "      <th>NaN</th>\n",
       "      <td>-5.81675</td>\n",
       "      <td>1.950000e-08</td>\n",
       "    </tr>\n",
       "    <tr>\n",
       "      <th>NaN</th>\n",
       "      <td>-5.81675</td>\n",
       "      <td>1.950000e-08</td>\n",
       "    </tr>\n",
       "    <tr>\n",
       "      <th>NaN</th>\n",
       "      <td>-5.81675</td>\n",
       "      <td>1.950000e-08</td>\n",
       "    </tr>\n",
       "    <tr>\n",
       "      <th>NaN</th>\n",
       "      <td>-5.81675</td>\n",
       "      <td>1.950000e-08</td>\n",
       "    </tr>\n",
       "    <tr>\n",
       "      <th>cers4</th>\n",
       "      <td>-1.53425</td>\n",
       "      <td>4.050000e-04</td>\n",
       "    </tr>\n",
       "  </tbody>\n",
       "</table>\n",
       "</div>"
      ],
      "text/plain": [
       "             fold-change       p-value\n",
       "Gene.symbol                           \n",
       "NaN             -5.81675  1.950000e-08\n",
       "NaN             -5.81675  1.950000e-08\n",
       "NaN             -5.81675  1.950000e-08\n",
       "NaN             -5.81675  1.950000e-08\n",
       "cers4           -1.53425  4.050000e-04"
      ]
     },
     "execution_count": 46,
     "metadata": {},
     "output_type": "execute_result"
    }
   ],
   "source": [
    "df_dgxp_pval_filtered.head()"
   ]
  },
  {
   "cell_type": "code",
   "execution_count": null,
   "metadata": {},
   "outputs": [],
   "source": []
  },
  {
   "cell_type": "code",
   "execution_count": 47,
   "metadata": {},
   "outputs": [],
   "source": [
    "COLUMNS = [\"Protein1\", \"interaction\", \"Protein2\"]\n",
    "DGXPCOLUMNS = [\"fold-change\", \"p-value\"]\n",
    "GEO_COLUMNS = ['logFC', 'adj.P.Val']\n",
    "\n",
    "ppi_file = os.path.join(os.path.abspath(os.path.dirname(\"__file__\")),'data', 'example.txt')\n",
    "\n",
    "df_ppi = pd.read_csv(ppi_file, sep='\\t', header=None)\n",
    "df_ppi.columns = [\"Protein1\", \"interaction\", \"Protein2\"]\n",
    "\n",
    "df_ppi.Protein1 = df_ppi['Protein1'].str.lower()\n",
    "df_ppi.Protein2 = df_ppi['Protein2'].str.lower()\n",
    "\n",
    "df_interactions = df_ppi.replace(\"in-complex-with\", +1)\n",
    "df_interactions = df_interactions.replace(\"controls-expression-of\", -1)\n",
    "df_interactions = df_interactions.replace(\"controls-state-change-of\", -1)\n",
    "# replace all other interaction expressions with 0\n",
    "df_interactions.loc[(df_interactions[COLUMNS[1]] != +1) & (df_interactions[COLUMNS[1]] != -1)] = 0\n"
   ]
  },
  {
   "cell_type": "code",
   "execution_count": 48,
   "metadata": {},
   "outputs": [
    {
     "data": {
      "text/plain": [
       "{'ccnc',\n",
       " 'cdk8',\n",
       " 'crebbp',\n",
       " 'cul1',\n",
       " 'ep300',\n",
       " 'fbxw7',\n",
       " 'hdac1',\n",
       " 'hdac10',\n",
       " 'hdac11',\n",
       " 'hdac2',\n",
       " 'hdac3',\n",
       " 'hdac4',\n",
       " 'hdac5',\n",
       " 'hdac6',\n",
       " 'hdac7',\n",
       " 'hdac8',\n",
       " 'hdac9',\n",
       " 'hes1',\n",
       " 'hes5',\n",
       " 'hey1',\n",
       " 'hey2',\n",
       " 'heyl',\n",
       " 'hif1a',\n",
       " 'kat2a',\n",
       " 'kat2b',\n",
       " 'maml1',\n",
       " 'maml2',\n",
       " 'maml3',\n",
       " 'mamld1',\n",
       " 'myc',\n",
       " 'ncor1',\n",
       " 'ncor2',\n",
       " 'notch1',\n",
       " 'rbpj',\n",
       " 'rbx1',\n",
       " 'snw1'}"
      ]
     },
     "execution_count": 48,
     "metadata": {},
     "output_type": "execute_result"
    }
   ],
   "source": [
    "set(df_interactions.Protein1.to_list())"
   ]
  },
  {
   "cell_type": "code",
   "execution_count": 52,
   "metadata": {},
   "outputs": [
    {
     "name": "stdout",
     "output_type": "stream",
     "text": [
      "{'ccnc': {'label': -0.16340334},\n",
      " 'cdk8': {'label': -0.02120132},\n",
      " 'crebbp': {'label': -0.12501582},\n",
      " 'cul1': {'label': -0.22057002},\n",
      " 'ep300': {'label': -0.07476486},\n",
      " 'fbxw7': {'label': Gene.symbol\n",
      "fbxw7    0.110889\n",
      "fbxw7   -0.067752\n",
      "Name: fold-change, dtype: float64},\n",
      " 'hdac1': {'label': Gene.symbol\n",
      "hdac1   -0.120805\n",
      "hdac1   -0.057456\n",
      "Name: fold-change, dtype: float64},\n",
      " 'hdac10': {'label': -0.43548877},\n",
      " 'hdac11': {'label': -0.07627957},\n",
      " 'hdac2': {'label': -0.07786077},\n",
      " 'hdac3': {'label': 0.01295349},\n",
      " 'hdac4': {'label': Gene.symbol\n",
      "hdac4    0.136620\n",
      "hdac4    0.047029\n",
      "Name: fold-change, dtype: float64},\n",
      " 'hdac5': {'label': 0.0498341},\n",
      " 'hdac6': {'label': 0.13443694},\n",
      " 'hdac7': {'label': 0.01822741},\n",
      " 'hdac8': {'label': 0.11425595},\n",
      " 'hdac9': {'label': -0.37887262},\n",
      " 'hes1': {'label': -0.3337103},\n",
      " 'hes5': {'label': 0.11142675},\n",
      " 'hey1': {'label': -0.33923405},\n",
      " 'heyl': {'label': 0.04072006},\n",
      " 'hif1a': {'label': -0.04266572},\n",
      " 'kat2a': {'label': -0.14217065},\n",
      " 'kat2b': {'label': -0.10186865},\n",
      " 'maml1': {'label': 0.06698752},\n",
      " 'maml2': {'label': Gene.symbol\n",
      "maml2   -0.258341\n",
      "maml2    0.110286\n",
      "Name: fold-change, dtype: float64},\n",
      " 'maml3': {'label': -0.10175482},\n",
      " 'mamld1': {'label': -0.29988307},\n",
      " 'myc': {'label': -0.09449628},\n",
      " 'ncor1': {'label': 0.01521027},\n",
      " 'ncor2': {'label': 0.18709123},\n",
      " 'notch1': {'label': -0.19029874},\n",
      " 'rbpj': {'label': Gene.symbol\n",
      "rbpj   -0.457873\n",
      "rbpj   -0.010607\n",
      "Name: fold-change, dtype: float64},\n",
      " 'rbx1': {'label': Gene.symbol\n",
      "rbx1   -0.107576\n",
      "rbx1    0.063360\n",
      "Name: fold-change, dtype: float64}}\n"
     ]
    }
   ],
   "source": [
    "import pprint as pp\n",
    "pp.pprint(gene_to_fc_dict)"
   ]
  },
  {
   "cell_type": "code",
   "execution_count": null,
   "metadata": {},
   "outputs": [],
   "source": [
    "all_tup = []\n",
    "\n"
   ]
  },
  {
   "cell_type": "code",
   "execution_count": null,
   "metadata": {},
   "outputs": [],
   "source": [
    "for target, path_nodes in shortest_path(graph, source).items():\n",
    "\n",
    "    # check if node labels of source and target are the same\n",
    "    if graph.nodes[source][LABEL] * graph.nodes[target][LABEL] is 1:\n",
    "        same_label = True"
   ]
  },
  {
   "cell_type": "code",
   "execution_count": null,
   "metadata": {},
   "outputs": [],
   "source": [
    "G.add_nodes_from(nodes_for_adding=gene_fc_dict) "
   ]
  },
  {
   "cell_type": "code",
   "execution_count": null,
   "metadata": {},
   "outputs": [],
   "source": [
    "G.nodes.data()"
   ]
  },
  {
   "cell_type": "code",
   "execution_count": null,
   "metadata": {},
   "outputs": [],
   "source": [
    " \n",
    "    \n",
    "            \n",
    "    G.add_nodes_from(nodes_for_adding=gene_fc_dict, attr='label')    \n",
    "    G.nodes.data()    \n",
    "    \"\"\"for node    \n",
    "        G.add_edge(\n",
    "            df_ppi.at[edge, 'Protein1'],\n",
    "            df_ppi.at[edge, 'Protein2'],\n",
    "            label=dgxp_dict[df_ppi.at[edge, 'interaction']]\n",
    "        )\"\"\"\n",
    "\n",
    "    \"\"\"if prot1 in list(df_dgxp_thr_filtered['gene']):\n",
    "        index = df_dgxp_thr_filtered[df_dgxp_thr_filtered.gene == prot1].index[0]\n",
    "        G.nodes[prot1][LABEL] = df_dgxp_thr_filtered.loc[index, ['fold-change']]\n",
    "        #print(df_dgxp.loc[index, 'fold-change'])\n",
    "        print(f\"Label for {prot1} is now {df_dgxp_thr_filtered.loc[index, 'fold-change']}\")\n",
    "       \"\"\" \n",
    "    \n",
    "    # edge attributes\n",
    "    interaction = df_interactions.loc[i, COLUMNS[1]]\n",
    "    G.add_edge(prot1, prot2)\n",
    "    G[prot1][prot2]['relation'] = interaction"
   ]
  },
  {
   "cell_type": "code",
   "execution_count": null,
   "metadata": {},
   "outputs": [],
   "source": []
  },
  {
   "cell_type": "code",
   "execution_count": null,
   "metadata": {},
   "outputs": [],
   "source": [
    "df_dgxp = df_dgxp_pval_filtered\n",
    "df_dgxp.loc['ccnc', 'fold-change']"
   ]
  },
  {
   "cell_type": "code",
   "execution_count": null,
   "metadata": {},
   "outputs": [],
   "source": [
    "#list(df_dgxp_thr_filtered['gene'])"
   ]
  },
  {
   "cell_type": "code",
   "execution_count": null,
   "metadata": {},
   "outputs": [],
   "source": [
    "df_xp = df_dgxp_pval_filtered"
   ]
  },
  {
   "cell_type": "code",
   "execution_count": 53,
   "metadata": {},
   "outputs": [
    {
     "name": "stdout",
     "output_type": "stream",
     "text": [
      "['Protein1', 'interaction', 'Protein2']\n"
     ]
    }
   ],
   "source": [
    "ppi_columns = 'Protein1,interaction,Protein2'\n",
    "ppi_list = ppi_columns.split(',')\n",
    "print(ppi_list)"
   ]
  },
  {
   "cell_type": "code",
   "execution_count": null,
   "metadata": {},
   "outputs": [],
   "source": [
    "df1['warehouse'] = df1['store'].map(df2.set_index('store_code')['warehouse'])"
   ]
  }
 ],
 "metadata": {
  "kernelspec": {
   "display_name": "Python 3",
   "language": "python",
   "name": "python3"
  },
  "language_info": {
   "codemirror_mode": {
    "name": "ipython",
    "version": 3
   },
   "file_extension": ".py",
   "mimetype": "text/x-python",
   "name": "python",
   "nbconvert_exporter": "python",
   "pygments_lexer": "ipython3",
   "version": "3.7.3"
  }
 },
 "nbformat": 4,
 "nbformat_minor": 4
}
